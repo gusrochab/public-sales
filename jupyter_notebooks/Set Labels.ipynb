{
 "cells": [
  {
   "cell_type": "code",
   "execution_count": 53,
   "metadata": {},
   "outputs": [],
   "source": [
    "import json"
   ]
  },
  {
   "cell_type": "code",
   "execution_count": 54,
   "metadata": {},
   "outputs": [],
   "source": [
    "files = [ 'brasilia_leiloes', 'capital_leiloes', 'df_leiloes', 'flex_leiloes', 'jussiara_leiloes_1', \n",
    "         'jussiara_leiloes_2', 'jussiara_leiloes_3', 'jussiara_leiloes_4', 'jussiara_leiloes_5', \n",
    "         'jussiara_leiloes_6', 'jussiara_leiloes_7', 'jussiara_leiloes_8', 'jussiara_leiloes_9',\n",
    "         'jussiara_leiloes_10', 'leiloeiros_de_brasilia_1', 'leiloeiros_de_brasilia_2', 'leiloeiros_de_brasilia_3',\n",
    "         'leiloeiros_de_brasilia_4', 'leiloeiros_de_brasilia_5', 'leiloeiros_de_brasilia_6',\n",
    "         'leiloeiros_de_brasilia_7', 'maria_vitorino_leiloeira', 'moacira', 'parque_dos_leiloes_1', \n",
    "         'parque_dos_leiloes_2', 'parque_dos_leiloes_3', 'parque_dos_leiloes_4', 'parque_dos_leiloes_5',\n",
    "         'parque_dos_leiloes_6', 'parque_dos_leiloes_7', 'parque_dos_leiloes_8','parque_dos_leiloes_9',\n",
    "         'parque_dos_leiloes_10', 'parque_dos_leiloes_11', 'parque_dos_leiloes_12', 'parque_dos_leiloes_13', \n",
    "         'paulo_tolentino']"
   ]
  },
  {
   "cell_type": "code",
   "execution_count": 55,
   "metadata": {},
   "outputs": [],
   "source": [
    "immobile_words = ['condomínio', 'casa', 'residencial', 'apartamento', 'apto', 'chácara', \n",
    "                  'fazenda', 'gleba', 'terreno', 'loja', 'sala', 'cartório de registro de imóveis', 'quadra']\n",
    "\n",
    "car_words = [ 'Abarth', 'Adria', 'Aixam', 'Alfa Romeo', \n",
    "             'Aston Martin', 'Audi', 'Austin', 'Benimar', 'Bentley', 'BMW', 'Burstner', 'Cadillac', \n",
    "             'Challenger', 'Chevrolet', 'Chrysler', 'Citroen', 'Dacia', 'Daewoo', 'Daihatsu', 'Datsun', \n",
    "             'Dodge', 'DS', 'Ferrari', 'Fiat', 'Ford', 'Honda', 'Hummer', 'Hyundai', 'Infiniti', 'Jaguar', \n",
    "             'JDM', 'Jeep', 'Kia', 'Lamborghini', 'Lancia', 'Land', 'Rover', 'Lexus', 'Ligier', 'Lincoln', \n",
    "             'Lotus', 'Maserati', 'Maybach', 'Mazda', 'Mercedes-Benz', 'MG', 'Microcar', 'MINI', 'Mitsubishi', \n",
    "             'Nissan', 'Opel', 'Peugeot', 'Porsche', 'Renault', 'Rolls', 'Royce', 'Rover', 'Saab', 'Seat', \n",
    "             'Skoda', 'Smart', 'SsangYong', 'Subaru', 'Suzuki', 'Tesla', 'Toyota', 'Triumph', 'UMM', 'Yamaha'\n",
    "             'Volkswagen', 'Volvo' 'VW', \n",
    "             'gasolina', 'renavam', 'veículo', 'ónibus','quilometragem', 'direção hidráulica', \n",
    "             'câmbio automático', 'câmbio mecânico' ]\n",
    "\n",
    "informatic_words = ['informática','monitor', 'monitores', 'dell', 'samsung', 'placa mãe', 'impressora', \n",
    "                    'notebook', 'laptop', 'nobreaks', 'nobreak', 'iphone', 'smartphone', 'apple']\n"
   ]
  },
  {
   "cell_type": "code",
   "execution_count": 56,
   "metadata": {},
   "outputs": [],
   "source": [
    "for file in files:\n",
    "    # print(file, key_word)\n",
    "    # Reed the json files with the pages data\n",
    "    with open(f'crawled pages/descriptions/{file}_descriptions.json', 'r') as f:\n",
    "        pages_list = json.loads(f.read())['pages_list']\n",
    "    # print('pages_list: ', len(pages_list))\n",
    "    \n",
    "    for page in pages_list:\n",
    "        if page['text_from_tag'] != '':\n",
    "            description = page['text_from_tag']\n",
    "        else:\n",
    "            description = page['description_from_text']\n",
    "        \n",
    "        try:\n",
    "            description = description.lower()\n",
    "        except:\n",
    "            description = \"\"\n",
    "        \n",
    "        if description != \"\":\n",
    "            label = ''\n",
    "            for word in immobile_words:\n",
    "                if word.lower() in description:\n",
    "                    label = 'immobile'\n",
    "                    break\n",
    "            if label == '':        \n",
    "                for word in car_words:\n",
    "                    if word.lower() in description:\n",
    "                        label = 'car'\n",
    "                        break\n",
    "            if label == '':\n",
    "                for word in informatic_words:\n",
    "                    if word.lower() in description:\n",
    "                        label = 'informatic'\n",
    "                        break\n",
    "            if label == '':\n",
    "                label = 'other'\n",
    "            page['label'] = label\n",
    "\n",
    "     # Save the file\n",
    "    pages_with_description_json = json.dumps({'pages_list':pages_list}, ensure_ascii=False).encode(encoding='utf-8')\n",
    "    with open(f'crawled pages/descriptions/{file}_descriptions.json', 'w') as f:\n",
    "        f.write(pages_with_description_json.decode())"
   ]
  },
  {
   "cell_type": "code",
   "execution_count": null,
   "metadata": {},
   "outputs": [],
   "source": []
  },
  {
   "cell_type": "code",
   "execution_count": null,
   "metadata": {},
   "outputs": [],
   "source": []
  },
  {
   "cell_type": "code",
   "execution_count": null,
   "metadata": {},
   "outputs": [],
   "source": []
  }
 ],
 "metadata": {
  "kernelspec": {
   "display_name": "Python 3",
   "language": "python",
   "name": "python3"
  },
  "language_info": {
   "codemirror_mode": {
    "name": "ipython",
    "version": 3
   },
   "file_extension": ".py",
   "mimetype": "text/x-python",
   "name": "python",
   "nbconvert_exporter": "python",
   "pygments_lexer": "ipython3",
   "version": "3.7.7"
  }
 },
 "nbformat": 4,
 "nbformat_minor": 4
}
